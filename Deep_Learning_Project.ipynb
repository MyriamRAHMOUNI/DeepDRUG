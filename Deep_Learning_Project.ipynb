{
 "cells": [
  {
   "cell_type": "markdown",
   "metadata": {},
   "source": [
    "## PREPARATION DES DONNEES "
   ]
  },
  {
   "cell_type": "code",
   "execution_count": 64,
   "metadata": {},
   "outputs": [],
   "source": [
    "import numpy as np\n",
    "import os\n",
    "import glob\n",
    "import pandas as pd\n",
    "\n"
   ]
  },
  {
   "cell_type": "code",
   "execution_count": 65,
   "metadata": {},
   "outputs": [
    {
     "name": "stdout",
     "output_type": "stream",
     "text": [
      "(1552, 1)\n"
     ]
    }
   ],
   "source": [
    "nuc = pd.read_csv('nucleotide.list.txt')\n",
    "nuc = np.array(nuc)\n",
    "hemes = pd.read_csv('heme.list.txt')\n",
    "hemes = np.array(hemes)\n",
    "steroides = pd.read_csv('steroid.list.txt')\n",
    "steroides = np.array(steroides)\n",
    "control = pd.read_csv('control.list.txt')\n",
    "control = np.array(control)\n",
    "\n",
    "print(nuc.shape)\n",
    "\n"
   ]
  },
  {
   "cell_type": "code",
   "execution_count": 67,
   "metadata": {},
   "outputs": [
    {
     "name": "stdout",
     "output_type": "stream",
     "text": [
      "(108, 14, 32, 32, 32)\n",
      "(108, 2)\n",
      "(88, 1, 14, 32, 32, 32)\n",
      "(4, 1, 14, 32, 32, 32)\n"
     ]
    }
   ],
   "source": [
    "import random\n",
    "voxel_folder = 'deepdrug3d_voxel_data'\n",
    "files = glob.glob(voxel_folder+'/*.npy')\n",
    "random.shuffle(files)\n",
    "targets = []\n",
    "features = []\n",
    "STEROID = []\n",
    "CONTROL = []\n",
    "for filename in files[:200]:\n",
    "    protein_name = filename[22:-4]\n",
    "    if protein_name in nuc:\n",
    "        features.append(np.load(filename))\n",
    "        target = [1, 0]\n",
    "        targets.append(target)\n",
    "    elif protein_name in hemes:\n",
    "        features.append(np.load(filename))\n",
    "        target = [0, 1]\n",
    "        targets.append(target)\n",
    "    elif protein_name in steroides:\n",
    "        STEROID.append(np.load(filename))\n",
    "    elif protein_name in control:\n",
    "        CONTROL.append(np.load(filename))\n",
    "    else:\n",
    "        print protein_name\n",
    "        print 'I can t find this proteine in the lists'\n",
    "        break\n",
    "features = np.array(features)\n",
    "targets = np.array(targets)\n",
    "CONTROL = np.array(CONTROL)\n",
    "STEROID = np.array(STEROID)\n",
    "\n",
    "print(features.shape)\n",
    "print(targets.shape)\n",
    "print(CONTROL.shape)\n",
    "print(STEROID.shape)\n",
    "\n"
   ]
  },
  {
   "cell_type": "code",
   "execution_count": null,
   "metadata": {},
   "outputs": [],
   "source": [
    "## trainning"
   ]
  },
  {
   "cell_type": "raw",
   "metadata": {},
   "source": [
    "mdl = DeepDrug3DBuilder.build()\n",
    "adam = Adam(lr=lr, beta_1=0.9, beta_2=0.999, epsilon=None, decay=0.0, amsgrad=False)\n",
    "mdl.compile(optimizer=adam, loss='binary_crossentropy', metrics=['accuracy'])\n",
    "mdl.fit(voxel, y, epochs = epoch, batch_size = batch_size, shuffle = True, callbacks = [tfCallBack], verbose = 2)\n",
    "    \n",
    "    \n"
   ]
  }
 ],
 "metadata": {
  "kernelspec": {
   "display_name": "Python 3",
   "language": "python",
   "name": "python3"
  },
  "language_info": {
   "codemirror_mode": {
    "name": "ipython",
    "version": 2
   },
   "file_extension": ".py",
   "mimetype": "text/x-python",
   "name": "python",
   "nbconvert_exporter": "python",
   "pygments_lexer": "ipython2",
   "version": "2.7.15"
  }
 },
 "nbformat": 4,
 "nbformat_minor": 2
}
